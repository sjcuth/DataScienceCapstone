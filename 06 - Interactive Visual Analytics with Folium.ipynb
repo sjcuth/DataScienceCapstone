{
  "metadata": {
    "language_info": {
      "codemirror_mode": {
        "name": "python",
        "version": 3
      },
      "file_extension": ".py",
      "mimetype": "text/x-python",
      "name": "python",
      "nbconvert_exporter": "python",
      "pygments_lexer": "ipython3",
      "version": "3.8"
    },
    "kernelspec": {
      "name": "python",
      "display_name": "Pyolite",
      "language": "python"
    }
  },
  "nbformat_minor": 4,
  "nbformat": 4,
  "cells": [
    {
      "cell_type": "markdown",
      "source": "<p style=\"text-align:center\">\n    <a href=\"https://skills.network/?utm_medium=Exinfluencer&utm_source=Exinfluencer&utm_content=000026UJ&utm_term=10006555&utm_id=NA-SkillsNetwork-Channel-SkillsNetworkCoursesIBMDS0321ENSkillsNetwork26802033-2022-01-01\" target=\"_blank\">\n    <img src=\"https://cf-courses-data.s3.us.cloud-object-storage.appdomain.cloud/assets/logos/SN_web_lightmode.png\" width=\"200\" alt=\"Skills Network Logo\"  />\n    </a>\n</p>\n",
      "metadata": {}
    },
    {
      "cell_type": "markdown",
      "source": "# **Launch Sites Locations Analysis with Folium**\n",
      "metadata": {}
    },
    {
      "cell_type": "markdown",
      "source": "Estimated time needed: **40** minutes\n",
      "metadata": {}
    },
    {
      "cell_type": "markdown",
      "source": "The launch success rate may depend on many factors such as payload mass, orbit type, and so on. It may also depend on the location and proximities of a launch site, i.e., the initial position of rocket trajectories. Finding an optimal location for building a launch site certainly involves many factors and hopefully we could discover some of the factors by analyzing the existing launch site locations.\n",
      "metadata": {}
    },
    {
      "cell_type": "markdown",
      "source": "In the previous exploratory data analysis labs, you have visualized the SpaceX launch dataset using `matplotlib` and `seaborn` and discovered some preliminary correlations between the launch site and success rates. In this lab, you will be performing more interactive visual analytics using `Folium`.\n",
      "metadata": {}
    },
    {
      "cell_type": "markdown",
      "source": "## Objectives\n",
      "metadata": {}
    },
    {
      "cell_type": "markdown",
      "source": "This lab contains the following tasks:\n\n*   **TASK 1:** Mark all launch sites on a map\n*   **TASK 2:** Mark the success/failed launches for each site on the map\n*   **TASK 3:** Calculate the distances between a launch site to its proximities\n\nAfter completed the above tasks, you should be able to find some geographical patterns about launch sites.\n",
      "metadata": {}
    },
    {
      "cell_type": "markdown",
      "source": "Let's first import required Python packages for this lab:\n",
      "metadata": {}
    },
    {
      "cell_type": "code",
      "source": "import piplite\nawait piplite.install(['folium'])\nawait piplite.install(['pandas'])",
      "metadata": {
        "trusted": true
      },
      "execution_count": 1,
      "outputs": []
    },
    {
      "cell_type": "code",
      "source": "import folium\nimport pandas as pd",
      "metadata": {
        "trusted": true
      },
      "execution_count": 2,
      "outputs": []
    },
    {
      "cell_type": "code",
      "source": "# Import folium MarkerCluster plugin\nfrom folium.plugins import MarkerCluster\n# Import folium MousePosition plugin\nfrom folium.plugins import MousePosition\n# Import folium DivIcon plugin\nfrom folium.features import DivIcon",
      "metadata": {
        "trusted": true
      },
      "execution_count": 3,
      "outputs": []
    },
    {
      "cell_type": "markdown",
      "source": "If you need to refresh your memory about folium, you may download and refer to this previous folium lab:\n",
      "metadata": {}
    },
    {
      "cell_type": "markdown",
      "source": "[Generating Maps with Python](https://cf-courses-data.s3.us.cloud-object-storage.appdomain.cloud/IBM-DS0321EN-SkillsNetwork/labs/module\\_3/DV0101EN-3-5-1-Generating-Maps-in-Python-py-v2.0.ipynb)\n",
      "metadata": {}
    },
    {
      "cell_type": "code",
      "source": "## Task 1: Mark all launch sites on a map\n",
      "metadata": {},
      "execution_count": null,
      "outputs": []
    },
    {
      "cell_type": "markdown",
      "source": "First, let's try to add each site's location on a map using site's latitude and longitude coordinates\n",
      "metadata": {}
    },
    {
      "cell_type": "markdown",
      "source": "The following dataset with the name `spacex_launch_geo.csv` is an augmented dataset with latitude and longitude added for each site.\n",
      "metadata": {}
    },
    {
      "cell_type": "code",
      "source": "# Download and read the `spacex_launch_geo.csv`\nfrom js import fetch\nimport io\n\nURL = 'https://cf-courses-data.s3.us.cloud-object-storage.appdomain.cloud/IBM-DS0321EN-SkillsNetwork/datasets/spacex_launch_geo.csv'\nresp = await fetch(URL)\nspacex_csv_file = io.BytesIO((await resp.arrayBuffer()).to_py())\nspacex_df=pd.read_csv(spacex_csv_file)",
      "metadata": {
        "trusted": true
      },
      "execution_count": 4,
      "outputs": []
    },
    {
      "cell_type": "markdown",
      "source": "Now, you can take a look at what are the coordinates for each site.\n",
      "metadata": {}
    },
    {
      "cell_type": "code",
      "source": "# Select relevant sub-columns: `Launch Site`, `Lat(Latitude)`, `Long(Longitude)`, `class`\nspacex_df = spacex_df[['Launch Site', 'Lat', 'Long', 'class']]\nlaunch_sites_df = spacex_df.groupby(['Launch Site'], as_index=False).first()\nlaunch_sites_df = launch_sites_df[['Launch Site', 'Lat', 'Long']]\nlaunch_sites_df",
      "metadata": {
        "trusted": true
      },
      "execution_count": 5,
      "outputs": [
        {
          "execution_count": 5,
          "output_type": "execute_result",
          "data": {
            "text/plain": "    Launch Site        Lat        Long\n0   CCAFS LC-40  28.562302  -80.577356\n1  CCAFS SLC-40  28.563197  -80.576820\n2    KSC LC-39A  28.573255  -80.646895\n3   VAFB SLC-4E  34.632834 -120.610745",
            "text/html": "<div>\n<style scoped>\n    .dataframe tbody tr th:only-of-type {\n        vertical-align: middle;\n    }\n\n    .dataframe tbody tr th {\n        vertical-align: top;\n    }\n\n    .dataframe thead th {\n        text-align: right;\n    }\n</style>\n<table border=\"1\" class=\"dataframe\">\n  <thead>\n    <tr style=\"text-align: right;\">\n      <th></th>\n      <th>Launch Site</th>\n      <th>Lat</th>\n      <th>Long</th>\n    </tr>\n  </thead>\n  <tbody>\n    <tr>\n      <th>0</th>\n      <td>CCAFS LC-40</td>\n      <td>28.562302</td>\n      <td>-80.577356</td>\n    </tr>\n    <tr>\n      <th>1</th>\n      <td>CCAFS SLC-40</td>\n      <td>28.563197</td>\n      <td>-80.576820</td>\n    </tr>\n    <tr>\n      <th>2</th>\n      <td>KSC LC-39A</td>\n      <td>28.573255</td>\n      <td>-80.646895</td>\n    </tr>\n    <tr>\n      <th>3</th>\n      <td>VAFB SLC-4E</td>\n      <td>34.632834</td>\n      <td>-120.610745</td>\n    </tr>\n  </tbody>\n</table>\n</div>"
          },
          "metadata": {}
        }
      ]
    },
    {
      "cell_type": "markdown",
      "source": "Above coordinates are just plain numbers that can not give you any intuitive insights about where are those launch sites. If you are very good at geography, you can interpret those numbers directly in your mind. If not, that's fine too. Let's visualize those locations by pinning them on a map.\n",
      "metadata": {}
    },
    {
      "cell_type": "markdown",
      "source": "We first need to create a folium `Map` object, with an initial center location to be NASA Johnson Space Center at Houston, Texas.\n",
      "metadata": {}
    },
    {
      "cell_type": "code",
      "source": "# Start location is NASA Johnson Space Center\nnasa_coordinate = [29.559684888503615, -95.0830971930759]\nsite_map = folium.Map(location=nasa_coordinate, zoom_start=10)",
      "metadata": {
        "trusted": true
      },
      "execution_count": 6,
      "outputs": []
    },
    {
      "cell_type": "markdown",
      "source": "We could use `folium.Circle` to add a highlighted circle area with a text label on a specific coordinate. For example,\n",
      "metadata": {}
    },
    {
      "cell_type": "code",
      "source": "# Create a blue circle at NASA Johnson Space Center's coordinate with a popup label showing its name\ncircle = folium.Circle(nasa_coordinate, radius=1000, color='#d35400', fill=True).add_child(folium.Popup('NASA Johnson Space Center'))\n# Create a blue circle at NASA Johnson Space Center's coordinate with a icon showing its name\nmarker = folium.map.Marker(\n    nasa_coordinate,\n    # Create an icon as a text label\n    icon=DivIcon(\n        icon_size=(20,20),\n        icon_anchor=(0,0),\n        html='<div style=\"font-size: 12; color:#d35400;\"><b>%s</b></div>' % 'NASA JSC',\n        )\n    )\nsite_map.add_child(circle)\nsite_map.add_child(marker)",
      "metadata": {
        "trusted": true
      },
      "execution_count": 7,
      "outputs": [
        {
          "execution_count": 7,
          "output_type": "execute_result",
          "data": {
            "text/plain": "<folium.folium.Map at 0x40f6268>",
            "text/html": "<div style=\"width:100%;\"><div style=\"position:relative;width:100%;height:0;padding-bottom:60%;\"><span style=\"color:#565656\">Make this Notebook Trusted to load map: File -> Trust Notebook</span><iframe srcdoc=\"&lt;!DOCTYPE html&gt;\n&lt;html&gt;\n&lt;head&gt;\n    \n    &lt;meta http-equiv=&quot;content-type&quot; content=&quot;text/html; charset=UTF-8&quot; /&gt;\n    \n        &lt;script&gt;\n            L_NO_TOUCH = false;\n            L_DISABLE_3D = false;\n        &lt;/script&gt;\n    \n    &lt;style&gt;html, body {width: 100%;height: 100%;margin: 0;padding: 0;}&lt;/style&gt;\n    &lt;style&gt;#map {position:absolute;top:0;bottom:0;right:0;left:0;}&lt;/style&gt;\n    &lt;script src=&quot;https://cdn.jsdelivr.net/npm/leaflet@1.9.3/dist/leaflet.js&quot;&gt;&lt;/script&gt;\n    &lt;script src=&quot;https://code.jquery.com/jquery-1.12.4.min.js&quot;&gt;&lt;/script&gt;\n    &lt;script src=&quot;https://cdn.jsdelivr.net/npm/bootstrap@5.2.2/dist/js/bootstrap.bundle.min.js&quot;&gt;&lt;/script&gt;\n    &lt;script src=&quot;https://cdnjs.cloudflare.com/ajax/libs/Leaflet.awesome-markers/2.0.2/leaflet.awesome-markers.js&quot;&gt;&lt;/script&gt;\n    &lt;link rel=&quot;stylesheet&quot; href=&quot;https://cdn.jsdelivr.net/npm/leaflet@1.9.3/dist/leaflet.css&quot;/&gt;\n    &lt;link rel=&quot;stylesheet&quot; href=&quot;https://cdn.jsdelivr.net/npm/bootstrap@5.2.2/dist/css/bootstrap.min.css&quot;/&gt;\n    &lt;link rel=&quot;stylesheet&quot; href=&quot;https://netdna.bootstrapcdn.com/bootstrap/3.0.0/css/bootstrap.min.css&quot;/&gt;\n    &lt;link rel=&quot;stylesheet&quot; href=&quot;https://cdn.jsdelivr.net/npm/@fortawesome/fontawesome-free@6.2.0/css/all.min.css&quot;/&gt;\n    &lt;link rel=&quot;stylesheet&quot; href=&quot;https://cdnjs.cloudflare.com/ajax/libs/Leaflet.awesome-markers/2.0.2/leaflet.awesome-markers.css&quot;/&gt;\n    &lt;link rel=&quot;stylesheet&quot; href=&quot;https://cdn.jsdelivr.net/gh/python-visualization/folium/folium/templates/leaflet.awesome.rotate.min.css&quot;/&gt;\n    \n            &lt;meta name=&quot;viewport&quot; content=&quot;width=device-width,\n                initial-scale=1.0, maximum-scale=1.0, user-scalable=no&quot; /&gt;\n            &lt;style&gt;\n                #map_ebffe878b27c17acbc5c5be3fb189b20 {\n                    position: relative;\n                    width: 100.0%;\n                    height: 100.0%;\n                    left: 0.0%;\n                    top: 0.0%;\n                }\n                .leaflet-container { font-size: 1rem; }\n            &lt;/style&gt;\n        \n&lt;/head&gt;\n&lt;body&gt;\n    \n    \n            &lt;div class=&quot;folium-map&quot; id=&quot;map_ebffe878b27c17acbc5c5be3fb189b20&quot; &gt;&lt;/div&gt;\n        \n&lt;/body&gt;\n&lt;script&gt;\n    \n    \n            var map_ebffe878b27c17acbc5c5be3fb189b20 = L.map(\n                &quot;map_ebffe878b27c17acbc5c5be3fb189b20&quot;,\n                {\n                    center: [29.559684888503615, -95.0830971930759],\n                    crs: L.CRS.EPSG3857,\n                    zoom: 10,\n                    zoomControl: true,\n                    preferCanvas: false,\n                }\n            );\n\n            \n\n        \n    \n            var tile_layer_493d55f16a8fb03630d452185fc5e032 = L.tileLayer(\n                &quot;https://{s}.tile.openstreetmap.org/{z}/{x}/{y}.png&quot;,\n                {&quot;attribution&quot;: &quot;Data by \\u0026copy; \\u003ca target=\\&quot;_blank\\&quot; href=\\&quot;http://openstreetmap.org\\&quot;\\u003eOpenStreetMap\\u003c/a\\u003e, under \\u003ca target=\\&quot;_blank\\&quot; href=\\&quot;http://www.openstreetmap.org/copyright\\&quot;\\u003eODbL\\u003c/a\\u003e.&quot;, &quot;detectRetina&quot;: false, &quot;maxNativeZoom&quot;: 18, &quot;maxZoom&quot;: 18, &quot;minZoom&quot;: 0, &quot;noWrap&quot;: false, &quot;opacity&quot;: 1, &quot;subdomains&quot;: &quot;abc&quot;, &quot;tms&quot;: false}\n            ).addTo(map_ebffe878b27c17acbc5c5be3fb189b20);\n        \n    \n            var circle_ba5fda8b155c7e636efa3d0741ddd359 = L.circle(\n                [29.559684888503615, -95.0830971930759],\n                {&quot;bubblingMouseEvents&quot;: true, &quot;color&quot;: &quot;#d35400&quot;, &quot;dashArray&quot;: null, &quot;dashOffset&quot;: null, &quot;fill&quot;: true, &quot;fillColor&quot;: &quot;#d35400&quot;, &quot;fillOpacity&quot;: 0.2, &quot;fillRule&quot;: &quot;evenodd&quot;, &quot;lineCap&quot;: &quot;round&quot;, &quot;lineJoin&quot;: &quot;round&quot;, &quot;opacity&quot;: 1.0, &quot;radius&quot;: 1000, &quot;stroke&quot;: true, &quot;weight&quot;: 3}\n            ).addTo(map_ebffe878b27c17acbc5c5be3fb189b20);\n        \n    \n        var popup_fab807c8b0656869071d102790b09358 = L.popup({&quot;maxWidth&quot;: &quot;100%&quot;});\n\n        \n            \n                var html_0476ec33f22cf6fe0f3f7bb648a3e91d = $(`&lt;div id=&quot;html_0476ec33f22cf6fe0f3f7bb648a3e91d&quot; style=&quot;width: 100.0%; height: 100.0%;&quot;&gt;NASA Johnson Space Center&lt;/div&gt;`)[0];\n                popup_fab807c8b0656869071d102790b09358.setContent(html_0476ec33f22cf6fe0f3f7bb648a3e91d);\n            \n        \n\n        circle_ba5fda8b155c7e636efa3d0741ddd359.bindPopup(popup_fab807c8b0656869071d102790b09358)\n        ;\n\n        \n    \n    \n            var marker_e81853ad8b81b9a1c26fe6d338efff94 = L.marker(\n                [29.559684888503615, -95.0830971930759],\n                {}\n            ).addTo(map_ebffe878b27c17acbc5c5be3fb189b20);\n        \n    \n            var div_icon_8426cd9c985501b2a4dd367b63d6cdb0 = L.divIcon({&quot;className&quot;: &quot;empty&quot;, &quot;html&quot;: &quot;\\u003cdiv style=\\&quot;font-size: 12; color:#d35400;\\&quot;\\u003e\\u003cb\\u003eNASA JSC\\u003c/b\\u003e\\u003c/div\\u003e&quot;, &quot;iconAnchor&quot;: [0, 0], &quot;iconSize&quot;: [20, 20]});\n            marker_e81853ad8b81b9a1c26fe6d338efff94.setIcon(div_icon_8426cd9c985501b2a4dd367b63d6cdb0);\n        \n&lt;/script&gt;\n&lt;/html&gt;\" style=\"position:absolute;width:100%;height:100%;left:0;top:0;border:none !important;\" allowfullscreen webkitallowfullscreen mozallowfullscreen></iframe></div></div>"
          },
          "metadata": {}
        }
      ]
    },
    {
      "cell_type": "markdown",
      "source": "and you should find a small yellow circle near the city of Houston and you can zoom-in to see a larger circle.\n",
      "metadata": {}
    },
    {
      "cell_type": "markdown",
      "source": "Now, let's add a circle for each launch site in data frame `launch_sites`\n",
      "metadata": {}
    },
    {
      "cell_type": "markdown",
      "source": "*TODO:*  Create and add `folium.Circle` and `folium.Marker` for each launch site on the site map\n",
      "metadata": {}
    },
    {
      "cell_type": "markdown",
      "source": "An example of folium.Circle:\n",
      "metadata": {}
    },
    {
      "cell_type": "markdown",
      "source": "`folium.Circle(coordinate, radius=1000, color='#000000', fill=True).add_child(folium.Popup(...))`\n",
      "metadata": {}
    },
    {
      "cell_type": "markdown",
      "source": "An example of folium.Marker:\n",
      "metadata": {}
    },
    {
      "cell_type": "markdown",
      "source": "`folium.map.Marker(coordinate, icon=DivIcon(icon_size=(20,20),icon_anchor=(0,0), html='<div style=\"font-size: 12; color:#d35400;\"><b>%s</b></div>' % 'label', ))`\n",
      "metadata": {}
    },
    {
      "cell_type": "code",
      "source": "# Initial the map\nsite_map = folium.Map(location=nasa_coordinate, zoom_start=5)\n# For each launch site, add a Circle object based on its coordinate (Lat, Long) values. In addition, add Launch site name as a popup label\n",
      "metadata": {
        "trusted": true
      },
      "execution_count": 8,
      "outputs": []
    },
    {
      "cell_type": "markdown",
      "source": "The generated map with marked launch sites should look similar to the following:\n",
      "metadata": {}
    },
    {
      "cell_type": "markdown",
      "source": "<center>\n    <img src=\"https://cf-courses-data.s3.us.cloud-object-storage.appdomain.cloud/IBM-DS0321EN-SkillsNetwork/labs/module_3/images/launch_site_markers.png\">\n</center>\n",
      "metadata": {}
    },
    {
      "cell_type": "markdown",
      "source": "Now, you can explore the map by zoom-in/out the marked areas\n, and try to answer the following questions:\n\n*   Are all launch sites in proximity to the Equator line?\n*   Are all launch sites in very close proximity to the coast?\n\nAlso please try to explain your findings.\n",
      "metadata": {}
    },
    {
      "cell_type": "code",
      "source": "# Task 2: Mark the success/failed launches for each site on the map\n",
      "metadata": {},
      "execution_count": null,
      "outputs": []
    },
    {
      "cell_type": "markdown",
      "source": "Next, let's try to enhance the map by adding the launch outcomes for each site, and see which sites have high success rates.\nRecall that data frame spacex_df has detailed launch records, and the `class` column indicates if this launch was successful or not\n",
      "metadata": {}
    },
    {
      "cell_type": "code",
      "source": "spacex_df.tail(10)",
      "metadata": {
        "trusted": true
      },
      "execution_count": 9,
      "outputs": [
        {
          "execution_count": 9,
          "output_type": "execute_result",
          "data": {
            "text/plain": "     Launch Site        Lat       Long  class\n46    KSC LC-39A  28.573255 -80.646895      1\n47    KSC LC-39A  28.573255 -80.646895      1\n48    KSC LC-39A  28.573255 -80.646895      1\n49  CCAFS SLC-40  28.563197 -80.576820      1\n50  CCAFS SLC-40  28.563197 -80.576820      1\n51  CCAFS SLC-40  28.563197 -80.576820      0\n52  CCAFS SLC-40  28.563197 -80.576820      0\n53  CCAFS SLC-40  28.563197 -80.576820      0\n54  CCAFS SLC-40  28.563197 -80.576820      1\n55  CCAFS SLC-40  28.563197 -80.576820      0",
            "text/html": "<div>\n<style scoped>\n    .dataframe tbody tr th:only-of-type {\n        vertical-align: middle;\n    }\n\n    .dataframe tbody tr th {\n        vertical-align: top;\n    }\n\n    .dataframe thead th {\n        text-align: right;\n    }\n</style>\n<table border=\"1\" class=\"dataframe\">\n  <thead>\n    <tr style=\"text-align: right;\">\n      <th></th>\n      <th>Launch Site</th>\n      <th>Lat</th>\n      <th>Long</th>\n      <th>class</th>\n    </tr>\n  </thead>\n  <tbody>\n    <tr>\n      <th>46</th>\n      <td>KSC LC-39A</td>\n      <td>28.573255</td>\n      <td>-80.646895</td>\n      <td>1</td>\n    </tr>\n    <tr>\n      <th>47</th>\n      <td>KSC LC-39A</td>\n      <td>28.573255</td>\n      <td>-80.646895</td>\n      <td>1</td>\n    </tr>\n    <tr>\n      <th>48</th>\n      <td>KSC LC-39A</td>\n      <td>28.573255</td>\n      <td>-80.646895</td>\n      <td>1</td>\n    </tr>\n    <tr>\n      <th>49</th>\n      <td>CCAFS SLC-40</td>\n      <td>28.563197</td>\n      <td>-80.576820</td>\n      <td>1</td>\n    </tr>\n    <tr>\n      <th>50</th>\n      <td>CCAFS SLC-40</td>\n      <td>28.563197</td>\n      <td>-80.576820</td>\n      <td>1</td>\n    </tr>\n    <tr>\n      <th>51</th>\n      <td>CCAFS SLC-40</td>\n      <td>28.563197</td>\n      <td>-80.576820</td>\n      <td>0</td>\n    </tr>\n    <tr>\n      <th>52</th>\n      <td>CCAFS SLC-40</td>\n      <td>28.563197</td>\n      <td>-80.576820</td>\n      <td>0</td>\n    </tr>\n    <tr>\n      <th>53</th>\n      <td>CCAFS SLC-40</td>\n      <td>28.563197</td>\n      <td>-80.576820</td>\n      <td>0</td>\n    </tr>\n    <tr>\n      <th>54</th>\n      <td>CCAFS SLC-40</td>\n      <td>28.563197</td>\n      <td>-80.576820</td>\n      <td>1</td>\n    </tr>\n    <tr>\n      <th>55</th>\n      <td>CCAFS SLC-40</td>\n      <td>28.563197</td>\n      <td>-80.576820</td>\n      <td>0</td>\n    </tr>\n  </tbody>\n</table>\n</div>"
          },
          "metadata": {}
        }
      ]
    },
    {
      "cell_type": "markdown",
      "source": "Next, let's create markers for all launch records.\nIf a launch was successful `(class=1)`, then we use a green marker and if a launch was failed, we use a red marker `(class=0)`\n",
      "metadata": {}
    },
    {
      "cell_type": "markdown",
      "source": "Note that a launch only happens in one of the four launch sites, which means many launch records will have the exact same coordinate. Marker clusters can be a good way to simplify a map containing many markers having the same coordinate.\n",
      "metadata": {}
    },
    {
      "cell_type": "markdown",
      "source": "Let's first create a `MarkerCluster` object\n",
      "metadata": {}
    },
    {
      "cell_type": "code",
      "source": "marker_cluster = MarkerCluster()\n",
      "metadata": {
        "trusted": true
      },
      "execution_count": 10,
      "outputs": []
    },
    {
      "cell_type": "markdown",
      "source": "*TODO:* Create a new column in `launch_sites` dataframe called `marker_color` to store the marker colors based on the `class` value\n",
      "metadata": {}
    },
    {
      "cell_type": "code",
      "source": "\n# Apply a function to check the value of `class` column\n# If class=1, marker_color value will be green\n# If class=0, marker_color value will be red\nspacex_df['marker_color'] = spacex_df['class'].apply(lambda x: 'green' if x==1 else 'red')\nspacex_df",
      "metadata": {
        "trusted": true
      },
      "execution_count": 18,
      "outputs": [
        {
          "execution_count": 18,
          "output_type": "execute_result",
          "data": {
            "text/plain": "     Launch Site        Lat        Long  class marker_color\n0    CCAFS LC-40  28.562302  -80.577356      0          red\n1    CCAFS LC-40  28.562302  -80.577356      0          red\n2    CCAFS LC-40  28.562302  -80.577356      0          red\n3    CCAFS LC-40  28.562302  -80.577356      0          red\n4    CCAFS LC-40  28.562302  -80.577356      0          red\n5    CCAFS LC-40  28.562302  -80.577356      0          red\n6    CCAFS LC-40  28.562302  -80.577356      0          red\n7    CCAFS LC-40  28.562302  -80.577356      0          red\n8    CCAFS LC-40  28.562302  -80.577356      0          red\n9    CCAFS LC-40  28.562302  -80.577356      0          red\n10   CCAFS LC-40  28.562302  -80.577356      0          red\n11   CCAFS LC-40  28.562302  -80.577356      0          red\n12   CCAFS LC-40  28.562302  -80.577356      0          red\n13   CCAFS LC-40  28.562302  -80.577356      0          red\n14   CCAFS LC-40  28.562302  -80.577356      0          red\n15   CCAFS LC-40  28.562302  -80.577356      0          red\n16   CCAFS LC-40  28.562302  -80.577356      0          red\n17   CCAFS LC-40  28.562302  -80.577356      1        green\n18   CCAFS LC-40  28.562302  -80.577356      1        green\n19   CCAFS LC-40  28.562302  -80.577356      0          red\n20   CCAFS LC-40  28.562302  -80.577356      1        green\n21   CCAFS LC-40  28.562302  -80.577356      1        green\n22   CCAFS LC-40  28.562302  -80.577356      1        green\n23   CCAFS LC-40  28.562302  -80.577356      0          red\n24   CCAFS LC-40  28.562302  -80.577356      1        green\n25   CCAFS LC-40  28.562302  -80.577356      1        green\n26   VAFB SLC-4E  34.632834 -120.610745      0          red\n27   VAFB SLC-4E  34.632834 -120.610745      0          red\n28   VAFB SLC-4E  34.632834 -120.610745      1        green\n29   VAFB SLC-4E  34.632834 -120.610745      1        green\n30   VAFB SLC-4E  34.632834 -120.610745      1        green\n31   VAFB SLC-4E  34.632834 -120.610745      1        green\n32   VAFB SLC-4E  34.632834 -120.610745      0          red\n33   VAFB SLC-4E  34.632834 -120.610745      0          red\n34   VAFB SLC-4E  34.632834 -120.610745      0          red\n35   VAFB SLC-4E  34.632834 -120.610745      0          red\n36    KSC LC-39A  28.573255  -80.646895      1        green\n37    KSC LC-39A  28.573255  -80.646895      0          red\n38    KSC LC-39A  28.573255  -80.646895      1        green\n39    KSC LC-39A  28.573255  -80.646895      1        green\n40    KSC LC-39A  28.573255  -80.646895      0          red\n41    KSC LC-39A  28.573255  -80.646895      1        green\n42    KSC LC-39A  28.573255  -80.646895      1        green\n43    KSC LC-39A  28.573255  -80.646895      0          red\n44    KSC LC-39A  28.573255  -80.646895      1        green\n45    KSC LC-39A  28.573255  -80.646895      1        green\n46    KSC LC-39A  28.573255  -80.646895      1        green\n47    KSC LC-39A  28.573255  -80.646895      1        green\n48    KSC LC-39A  28.573255  -80.646895      1        green\n49  CCAFS SLC-40  28.563197  -80.576820      1        green\n50  CCAFS SLC-40  28.563197  -80.576820      1        green\n51  CCAFS SLC-40  28.563197  -80.576820      0          red\n52  CCAFS SLC-40  28.563197  -80.576820      0          red\n53  CCAFS SLC-40  28.563197  -80.576820      0          red\n54  CCAFS SLC-40  28.563197  -80.576820      1        green\n55  CCAFS SLC-40  28.563197  -80.576820      0          red",
            "text/html": "<div>\n<style scoped>\n    .dataframe tbody tr th:only-of-type {\n        vertical-align: middle;\n    }\n\n    .dataframe tbody tr th {\n        vertical-align: top;\n    }\n\n    .dataframe thead th {\n        text-align: right;\n    }\n</style>\n<table border=\"1\" class=\"dataframe\">\n  <thead>\n    <tr style=\"text-align: right;\">\n      <th></th>\n      <th>Launch Site</th>\n      <th>Lat</th>\n      <th>Long</th>\n      <th>class</th>\n      <th>marker_color</th>\n    </tr>\n  </thead>\n  <tbody>\n    <tr>\n      <th>0</th>\n      <td>CCAFS LC-40</td>\n      <td>28.562302</td>\n      <td>-80.577356</td>\n      <td>0</td>\n      <td>red</td>\n    </tr>\n    <tr>\n      <th>1</th>\n      <td>CCAFS LC-40</td>\n      <td>28.562302</td>\n      <td>-80.577356</td>\n      <td>0</td>\n      <td>red</td>\n    </tr>\n    <tr>\n      <th>2</th>\n      <td>CCAFS LC-40</td>\n      <td>28.562302</td>\n      <td>-80.577356</td>\n      <td>0</td>\n      <td>red</td>\n    </tr>\n    <tr>\n      <th>3</th>\n      <td>CCAFS LC-40</td>\n      <td>28.562302</td>\n      <td>-80.577356</td>\n      <td>0</td>\n      <td>red</td>\n    </tr>\n    <tr>\n      <th>4</th>\n      <td>CCAFS LC-40</td>\n      <td>28.562302</td>\n      <td>-80.577356</td>\n      <td>0</td>\n      <td>red</td>\n    </tr>\n    <tr>\n      <th>5</th>\n      <td>CCAFS LC-40</td>\n      <td>28.562302</td>\n      <td>-80.577356</td>\n      <td>0</td>\n      <td>red</td>\n    </tr>\n    <tr>\n      <th>6</th>\n      <td>CCAFS LC-40</td>\n      <td>28.562302</td>\n      <td>-80.577356</td>\n      <td>0</td>\n      <td>red</td>\n    </tr>\n    <tr>\n      <th>7</th>\n      <td>CCAFS LC-40</td>\n      <td>28.562302</td>\n      <td>-80.577356</td>\n      <td>0</td>\n      <td>red</td>\n    </tr>\n    <tr>\n      <th>8</th>\n      <td>CCAFS LC-40</td>\n      <td>28.562302</td>\n      <td>-80.577356</td>\n      <td>0</td>\n      <td>red</td>\n    </tr>\n    <tr>\n      <th>9</th>\n      <td>CCAFS LC-40</td>\n      <td>28.562302</td>\n      <td>-80.577356</td>\n      <td>0</td>\n      <td>red</td>\n    </tr>\n    <tr>\n      <th>10</th>\n      <td>CCAFS LC-40</td>\n      <td>28.562302</td>\n      <td>-80.577356</td>\n      <td>0</td>\n      <td>red</td>\n    </tr>\n    <tr>\n      <th>11</th>\n      <td>CCAFS LC-40</td>\n      <td>28.562302</td>\n      <td>-80.577356</td>\n      <td>0</td>\n      <td>red</td>\n    </tr>\n    <tr>\n      <th>12</th>\n      <td>CCAFS LC-40</td>\n      <td>28.562302</td>\n      <td>-80.577356</td>\n      <td>0</td>\n      <td>red</td>\n    </tr>\n    <tr>\n      <th>13</th>\n      <td>CCAFS LC-40</td>\n      <td>28.562302</td>\n      <td>-80.577356</td>\n      <td>0</td>\n      <td>red</td>\n    </tr>\n    <tr>\n      <th>14</th>\n      <td>CCAFS LC-40</td>\n      <td>28.562302</td>\n      <td>-80.577356</td>\n      <td>0</td>\n      <td>red</td>\n    </tr>\n    <tr>\n      <th>15</th>\n      <td>CCAFS LC-40</td>\n      <td>28.562302</td>\n      <td>-80.577356</td>\n      <td>0</td>\n      <td>red</td>\n    </tr>\n    <tr>\n      <th>16</th>\n      <td>CCAFS LC-40</td>\n      <td>28.562302</td>\n      <td>-80.577356</td>\n      <td>0</td>\n      <td>red</td>\n    </tr>\n    <tr>\n      <th>17</th>\n      <td>CCAFS LC-40</td>\n      <td>28.562302</td>\n      <td>-80.577356</td>\n      <td>1</td>\n      <td>green</td>\n    </tr>\n    <tr>\n      <th>18</th>\n      <td>CCAFS LC-40</td>\n      <td>28.562302</td>\n      <td>-80.577356</td>\n      <td>1</td>\n      <td>green</td>\n    </tr>\n    <tr>\n      <th>19</th>\n      <td>CCAFS LC-40</td>\n      <td>28.562302</td>\n      <td>-80.577356</td>\n      <td>0</td>\n      <td>red</td>\n    </tr>\n    <tr>\n      <th>20</th>\n      <td>CCAFS LC-40</td>\n      <td>28.562302</td>\n      <td>-80.577356</td>\n      <td>1</td>\n      <td>green</td>\n    </tr>\n    <tr>\n      <th>21</th>\n      <td>CCAFS LC-40</td>\n      <td>28.562302</td>\n      <td>-80.577356</td>\n      <td>1</td>\n      <td>green</td>\n    </tr>\n    <tr>\n      <th>22</th>\n      <td>CCAFS LC-40</td>\n      <td>28.562302</td>\n      <td>-80.577356</td>\n      <td>1</td>\n      <td>green</td>\n    </tr>\n    <tr>\n      <th>23</th>\n      <td>CCAFS LC-40</td>\n      <td>28.562302</td>\n      <td>-80.577356</td>\n      <td>0</td>\n      <td>red</td>\n    </tr>\n    <tr>\n      <th>24</th>\n      <td>CCAFS LC-40</td>\n      <td>28.562302</td>\n      <td>-80.577356</td>\n      <td>1</td>\n      <td>green</td>\n    </tr>\n    <tr>\n      <th>25</th>\n      <td>CCAFS LC-40</td>\n      <td>28.562302</td>\n      <td>-80.577356</td>\n      <td>1</td>\n      <td>green</td>\n    </tr>\n    <tr>\n      <th>26</th>\n      <td>VAFB SLC-4E</td>\n      <td>34.632834</td>\n      <td>-120.610745</td>\n      <td>0</td>\n      <td>red</td>\n    </tr>\n    <tr>\n      <th>27</th>\n      <td>VAFB SLC-4E</td>\n      <td>34.632834</td>\n      <td>-120.610745</td>\n      <td>0</td>\n      <td>red</td>\n    </tr>\n    <tr>\n      <th>28</th>\n      <td>VAFB SLC-4E</td>\n      <td>34.632834</td>\n      <td>-120.610745</td>\n      <td>1</td>\n      <td>green</td>\n    </tr>\n    <tr>\n      <th>29</th>\n      <td>VAFB SLC-4E</td>\n      <td>34.632834</td>\n      <td>-120.610745</td>\n      <td>1</td>\n      <td>green</td>\n    </tr>\n    <tr>\n      <th>30</th>\n      <td>VAFB SLC-4E</td>\n      <td>34.632834</td>\n      <td>-120.610745</td>\n      <td>1</td>\n      <td>green</td>\n    </tr>\n    <tr>\n      <th>31</th>\n      <td>VAFB SLC-4E</td>\n      <td>34.632834</td>\n      <td>-120.610745</td>\n      <td>1</td>\n      <td>green</td>\n    </tr>\n    <tr>\n      <th>32</th>\n      <td>VAFB SLC-4E</td>\n      <td>34.632834</td>\n      <td>-120.610745</td>\n      <td>0</td>\n      <td>red</td>\n    </tr>\n    <tr>\n      <th>33</th>\n      <td>VAFB SLC-4E</td>\n      <td>34.632834</td>\n      <td>-120.610745</td>\n      <td>0</td>\n      <td>red</td>\n    </tr>\n    <tr>\n      <th>34</th>\n      <td>VAFB SLC-4E</td>\n      <td>34.632834</td>\n      <td>-120.610745</td>\n      <td>0</td>\n      <td>red</td>\n    </tr>\n    <tr>\n      <th>35</th>\n      <td>VAFB SLC-4E</td>\n      <td>34.632834</td>\n      <td>-120.610745</td>\n      <td>0</td>\n      <td>red</td>\n    </tr>\n    <tr>\n      <th>36</th>\n      <td>KSC LC-39A</td>\n      <td>28.573255</td>\n      <td>-80.646895</td>\n      <td>1</td>\n      <td>green</td>\n    </tr>\n    <tr>\n      <th>37</th>\n      <td>KSC LC-39A</td>\n      <td>28.573255</td>\n      <td>-80.646895</td>\n      <td>0</td>\n      <td>red</td>\n    </tr>\n    <tr>\n      <th>38</th>\n      <td>KSC LC-39A</td>\n      <td>28.573255</td>\n      <td>-80.646895</td>\n      <td>1</td>\n      <td>green</td>\n    </tr>\n    <tr>\n      <th>39</th>\n      <td>KSC LC-39A</td>\n      <td>28.573255</td>\n      <td>-80.646895</td>\n      <td>1</td>\n      <td>green</td>\n    </tr>\n    <tr>\n      <th>40</th>\n      <td>KSC LC-39A</td>\n      <td>28.573255</td>\n      <td>-80.646895</td>\n      <td>0</td>\n      <td>red</td>\n    </tr>\n    <tr>\n      <th>41</th>\n      <td>KSC LC-39A</td>\n      <td>28.573255</td>\n      <td>-80.646895</td>\n      <td>1</td>\n      <td>green</td>\n    </tr>\n    <tr>\n      <th>42</th>\n      <td>KSC LC-39A</td>\n      <td>28.573255</td>\n      <td>-80.646895</td>\n      <td>1</td>\n      <td>green</td>\n    </tr>\n    <tr>\n      <th>43</th>\n      <td>KSC LC-39A</td>\n      <td>28.573255</td>\n      <td>-80.646895</td>\n      <td>0</td>\n      <td>red</td>\n    </tr>\n    <tr>\n      <th>44</th>\n      <td>KSC LC-39A</td>\n      <td>28.573255</td>\n      <td>-80.646895</td>\n      <td>1</td>\n      <td>green</td>\n    </tr>\n    <tr>\n      <th>45</th>\n      <td>KSC LC-39A</td>\n      <td>28.573255</td>\n      <td>-80.646895</td>\n      <td>1</td>\n      <td>green</td>\n    </tr>\n    <tr>\n      <th>46</th>\n      <td>KSC LC-39A</td>\n      <td>28.573255</td>\n      <td>-80.646895</td>\n      <td>1</td>\n      <td>green</td>\n    </tr>\n    <tr>\n      <th>47</th>\n      <td>KSC LC-39A</td>\n      <td>28.573255</td>\n      <td>-80.646895</td>\n      <td>1</td>\n      <td>green</td>\n    </tr>\n    <tr>\n      <th>48</th>\n      <td>KSC LC-39A</td>\n      <td>28.573255</td>\n      <td>-80.646895</td>\n      <td>1</td>\n      <td>green</td>\n    </tr>\n    <tr>\n      <th>49</th>\n      <td>CCAFS SLC-40</td>\n      <td>28.563197</td>\n      <td>-80.576820</td>\n      <td>1</td>\n      <td>green</td>\n    </tr>\n    <tr>\n      <th>50</th>\n      <td>CCAFS SLC-40</td>\n      <td>28.563197</td>\n      <td>-80.576820</td>\n      <td>1</td>\n      <td>green</td>\n    </tr>\n    <tr>\n      <th>51</th>\n      <td>CCAFS SLC-40</td>\n      <td>28.563197</td>\n      <td>-80.576820</td>\n      <td>0</td>\n      <td>red</td>\n    </tr>\n    <tr>\n      <th>52</th>\n      <td>CCAFS SLC-40</td>\n      <td>28.563197</td>\n      <td>-80.576820</td>\n      <td>0</td>\n      <td>red</td>\n    </tr>\n    <tr>\n      <th>53</th>\n      <td>CCAFS SLC-40</td>\n      <td>28.563197</td>\n      <td>-80.576820</td>\n      <td>0</td>\n      <td>red</td>\n    </tr>\n    <tr>\n      <th>54</th>\n      <td>CCAFS SLC-40</td>\n      <td>28.563197</td>\n      <td>-80.576820</td>\n      <td>1</td>\n      <td>green</td>\n    </tr>\n    <tr>\n      <th>55</th>\n      <td>CCAFS SLC-40</td>\n      <td>28.563197</td>\n      <td>-80.576820</td>\n      <td>0</td>\n      <td>red</td>\n    </tr>\n  </tbody>\n</table>\n</div>"
          },
          "metadata": {}
        }
      ]
    },
    {
      "cell_type": "markdown",
      "source": "*TODO:* For each launch result in `spacex_df` data frame, add a `folium.Marker` to `marker_cluster`\n",
      "metadata": {}
    },
    {
      "cell_type": "code",
      "source": "# Add marker_cluster to current site_map\nsite_map.add_child(marker_cluster)\n\n# for each row in spacex_df data frame\n# create a Marker object with its coordinate\n# and customize the Marker's icon property to indicate if this launch was successed or failed, \n# e.g., icon=folium.Icon(color='white', icon_color=row['marker_color']\nfor index, record in spacex_df.iterrows():\n    # TODO: Create and add a Marker cluster to the site map\n    marker = folium.Marker([record.Lat,record.Long], icon_color=record.marker_color)\n    #print(record.Lat)\n    marker_cluster.add_child(marker)\n\nsite_map",
      "metadata": {
        "trusted": true
      },
      "execution_count": 22,
      "outputs": [
        {
          "execution_count": 22,
          "output_type": "execute_result",
          "data": {
            "text/plain": "<folium.folium.Map at 0x418c558>",
            "text/html": "<div style=\"width:100%;\"><div style=\"position:relative;width:100%;height:0;padding-bottom:60%;\"><span style=\"color:#565656\">Make this Notebook Trusted to load map: File -> Trust Notebook</span><iframe srcdoc=\"&lt;!DOCTYPE html&gt;\n&lt;html&gt;\n&lt;head&gt;\n    \n    &lt;meta http-equiv=&quot;content-type&quot; content=&quot;text/html; charset=UTF-8&quot; /&gt;\n    \n        &lt;script&gt;\n            L_NO_TOUCH = false;\n            L_DISABLE_3D = false;\n        &lt;/script&gt;\n    \n    &lt;style&gt;html, body {width: 100%;height: 100%;margin: 0;padding: 0;}&lt;/style&gt;\n    &lt;style&gt;#map {position:absolute;top:0;bottom:0;right:0;left:0;}&lt;/style&gt;\n    &lt;script src=&quot;https://cdn.jsdelivr.net/npm/leaflet@1.9.3/dist/leaflet.js&quot;&gt;&lt;/script&gt;\n    &lt;script src=&quot;https://code.jquery.com/jquery-1.12.4.min.js&quot;&gt;&lt;/script&gt;\n    &lt;script src=&quot;https://cdn.jsdelivr.net/npm/bootstrap@5.2.2/dist/js/bootstrap.bundle.min.js&quot;&gt;&lt;/script&gt;\n    &lt;script src=&quot;https://cdnjs.cloudflare.com/ajax/libs/Leaflet.awesome-markers/2.0.2/leaflet.awesome-markers.js&quot;&gt;&lt;/script&gt;\n    &lt;link rel=&quot;stylesheet&quot; href=&quot;https://cdn.jsdelivr.net/npm/leaflet@1.9.3/dist/leaflet.css&quot;/&gt;\n    &lt;link rel=&quot;stylesheet&quot; href=&quot;https://cdn.jsdelivr.net/npm/bootstrap@5.2.2/dist/css/bootstrap.min.css&quot;/&gt;\n    &lt;link rel=&quot;stylesheet&quot; href=&quot;https://netdna.bootstrapcdn.com/bootstrap/3.0.0/css/bootstrap.min.css&quot;/&gt;\n    &lt;link rel=&quot;stylesheet&quot; href=&quot;https://cdn.jsdelivr.net/npm/@fortawesome/fontawesome-free@6.2.0/css/all.min.css&quot;/&gt;\n    &lt;link rel=&quot;stylesheet&quot; href=&quot;https://cdnjs.cloudflare.com/ajax/libs/Leaflet.awesome-markers/2.0.2/leaflet.awesome-markers.css&quot;/&gt;\n    &lt;link rel=&quot;stylesheet&quot; href=&quot;https://cdn.jsdelivr.net/gh/python-visualization/folium/folium/templates/leaflet.awesome.rotate.min.css&quot;/&gt;\n    \n            &lt;meta name=&quot;viewport&quot; content=&quot;width=device-width,\n                initial-scale=1.0, maximum-scale=1.0, user-scalable=no&quot; /&gt;\n            &lt;style&gt;\n                #map_7695242e514c5f1166939100a46f2fcb {\n                    position: relative;\n                    width: 100.0%;\n                    height: 100.0%;\n                    left: 0.0%;\n                    top: 0.0%;\n                }\n                .leaflet-container { font-size: 1rem; }\n            &lt;/style&gt;\n        \n    &lt;script src=&quot;https://cdnjs.cloudflare.com/ajax/libs/leaflet.markercluster/1.1.0/leaflet.markercluster.js&quot;&gt;&lt;/script&gt;\n    &lt;link rel=&quot;stylesheet&quot; href=&quot;https://cdnjs.cloudflare.com/ajax/libs/leaflet.markercluster/1.1.0/MarkerCluster.css&quot;/&gt;\n    &lt;link rel=&quot;stylesheet&quot; href=&quot;https://cdnjs.cloudflare.com/ajax/libs/leaflet.markercluster/1.1.0/MarkerCluster.Default.css&quot;/&gt;\n&lt;/head&gt;\n&lt;body&gt;\n    \n    \n            &lt;div class=&quot;folium-map&quot; id=&quot;map_7695242e514c5f1166939100a46f2fcb&quot; &gt;&lt;/div&gt;\n        \n&lt;/body&gt;\n&lt;script&gt;\n    \n    \n            var map_7695242e514c5f1166939100a46f2fcb = L.map(\n                &quot;map_7695242e514c5f1166939100a46f2fcb&quot;,\n                {\n                    center: [29.559684888503615, -95.0830971930759],\n                    crs: L.CRS.EPSG3857,\n                    zoom: 5,\n                    zoomControl: true,\n                    preferCanvas: false,\n                }\n            );\n\n            \n\n        \n    \n            var tile_layer_474e9688b4a4e85605a964bc1033bb5c = L.tileLayer(\n                &quot;https://{s}.tile.openstreetmap.org/{z}/{x}/{y}.png&quot;,\n                {&quot;attribution&quot;: &quot;Data by \\u0026copy; \\u003ca target=\\&quot;_blank\\&quot; href=\\&quot;http://openstreetmap.org\\&quot;\\u003eOpenStreetMap\\u003c/a\\u003e, under \\u003ca target=\\&quot;_blank\\&quot; href=\\&quot;http://www.openstreetmap.org/copyright\\&quot;\\u003eODbL\\u003c/a\\u003e.&quot;, &quot;detectRetina&quot;: false, &quot;maxNativeZoom&quot;: 18, &quot;maxZoom&quot;: 18, &quot;minZoom&quot;: 0, &quot;noWrap&quot;: false, &quot;opacity&quot;: 1, &quot;subdomains&quot;: &quot;abc&quot;, &quot;tms&quot;: false}\n            ).addTo(map_7695242e514c5f1166939100a46f2fcb);\n        \n    \n            var marker_cluster_8f827a6d6bc3dbc304f5f48f98a25275 = L.markerClusterGroup(\n                {}\n            );\n            map_7695242e514c5f1166939100a46f2fcb.addLayer(marker_cluster_8f827a6d6bc3dbc304f5f48f98a25275);\n        \n    \n            var marker_fb39b8a78f169f9345c6f10591a8f7bd = L.marker(\n                [28.56230197, -80.57735648],\n                {&quot;iconColor&quot;: &quot;red&quot;}\n            ).addTo(marker_cluster_8f827a6d6bc3dbc304f5f48f98a25275);\n        \n    \n            var marker_c03ce66fc9e38451096f56bce78d1dee = L.marker(\n                [28.56230197, -80.57735648],\n                {&quot;iconColor&quot;: &quot;red&quot;}\n            ).addTo(marker_cluster_8f827a6d6bc3dbc304f5f48f98a25275);\n        \n    \n            var marker_54e2bba434bf7483ee6e353f31d37bab = L.marker(\n                [28.56230197, -80.57735648],\n                {&quot;iconColor&quot;: &quot;red&quot;}\n            ).addTo(marker_cluster_8f827a6d6bc3dbc304f5f48f98a25275);\n        \n    \n            var marker_5a904362844d127b56e2578ea5608d8f = L.marker(\n                [28.56230197, -80.57735648],\n                {&quot;iconColor&quot;: &quot;red&quot;}\n            ).addTo(marker_cluster_8f827a6d6bc3dbc304f5f48f98a25275);\n        \n    \n            var marker_b8d96000d446f058300a41f003879960 = L.marker(\n                [28.56230197, -80.57735648],\n                {&quot;iconColor&quot;: &quot;red&quot;}\n            ).addTo(marker_cluster_8f827a6d6bc3dbc304f5f48f98a25275);\n        \n    \n            var marker_408d40080e971315185d0731f9d6e870 = L.marker(\n                [28.56230197, -80.57735648],\n                {&quot;iconColor&quot;: &quot;red&quot;}\n            ).addTo(marker_cluster_8f827a6d6bc3dbc304f5f48f98a25275);\n        \n    \n            var marker_90183e1f8d914760d84d1e1d572cde34 = L.marker(\n                [28.56230197, -80.57735648],\n                {&quot;iconColor&quot;: &quot;red&quot;}\n            ).addTo(marker_cluster_8f827a6d6bc3dbc304f5f48f98a25275);\n        \n    \n            var marker_528abb73c46cdacc06e01885d79c27ca = L.marker(\n                [28.56230197, -80.57735648],\n                {&quot;iconColor&quot;: &quot;red&quot;}\n            ).addTo(marker_cluster_8f827a6d6bc3dbc304f5f48f98a25275);\n        \n    \n            var marker_73b0f7c0cfdb3ae4d194b1f7d0b5a723 = L.marker(\n                [28.56230197, -80.57735648],\n                {&quot;iconColor&quot;: &quot;red&quot;}\n            ).addTo(marker_cluster_8f827a6d6bc3dbc304f5f48f98a25275);\n        \n    \n            var marker_56e00d35fa337e840c752b409fc1137a = L.marker(\n                [28.56230197, -80.57735648],\n                {&quot;iconColor&quot;: &quot;red&quot;}\n            ).addTo(marker_cluster_8f827a6d6bc3dbc304f5f48f98a25275);\n        \n    \n            var marker_d0edf38c6d02499c43cdd317bade82bf = L.marker(\n                [28.56230197, -80.57735648],\n                {&quot;iconColor&quot;: &quot;red&quot;}\n            ).addTo(marker_cluster_8f827a6d6bc3dbc304f5f48f98a25275);\n        \n    \n            var marker_c1dd85372db46ff279fcd24eb7845824 = L.marker(\n                [28.56230197, -80.57735648],\n                {&quot;iconColor&quot;: &quot;red&quot;}\n            ).addTo(marker_cluster_8f827a6d6bc3dbc304f5f48f98a25275);\n        \n    \n            var marker_8bc2e2cba660f454cc0a92a39fc14d81 = L.marker(\n                [28.56230197, -80.57735648],\n                {&quot;iconColor&quot;: &quot;red&quot;}\n            ).addTo(marker_cluster_8f827a6d6bc3dbc304f5f48f98a25275);\n        \n    \n            var marker_0952f1f98f6d0d212f2e22af38f8763c = L.marker(\n                [28.56230197, -80.57735648],\n                {&quot;iconColor&quot;: &quot;red&quot;}\n            ).addTo(marker_cluster_8f827a6d6bc3dbc304f5f48f98a25275);\n        \n    \n            var marker_a2ce3352d05f1b74b6d496cc65e383e8 = L.marker(\n                [28.56230197, -80.57735648],\n                {&quot;iconColor&quot;: &quot;red&quot;}\n            ).addTo(marker_cluster_8f827a6d6bc3dbc304f5f48f98a25275);\n        \n    \n            var marker_8d354515a5a4b9ec550245e2962a3664 = L.marker(\n                [28.56230197, -80.57735648],\n                {&quot;iconColor&quot;: &quot;red&quot;}\n            ).addTo(marker_cluster_8f827a6d6bc3dbc304f5f48f98a25275);\n        \n    \n            var marker_e6ab7109ab1412aeb105b31562fa8b28 = L.marker(\n                [28.56230197, -80.57735648],\n                {&quot;iconColor&quot;: &quot;red&quot;}\n            ).addTo(marker_cluster_8f827a6d6bc3dbc304f5f48f98a25275);\n        \n    \n            var marker_bd997f8370a3411499862f7109f47160 = L.marker(\n                [28.56230197, -80.57735648],\n                {&quot;iconColor&quot;: &quot;green&quot;}\n            ).addTo(marker_cluster_8f827a6d6bc3dbc304f5f48f98a25275);\n        \n    \n            var marker_9a1eb9df82676ae18e12eaf1bdce3694 = L.marker(\n                [28.56230197, -80.57735648],\n                {&quot;iconColor&quot;: &quot;green&quot;}\n            ).addTo(marker_cluster_8f827a6d6bc3dbc304f5f48f98a25275);\n        \n    \n            var marker_4d419a935720b067386afdeb995f6d1d = L.marker(\n                [28.56230197, -80.57735648],\n                {&quot;iconColor&quot;: &quot;red&quot;}\n            ).addTo(marker_cluster_8f827a6d6bc3dbc304f5f48f98a25275);\n        \n    \n            var marker_775c921e37fe714d8358466a8a65d14f = L.marker(\n                [28.56230197, -80.57735648],\n                {&quot;iconColor&quot;: &quot;green&quot;}\n            ).addTo(marker_cluster_8f827a6d6bc3dbc304f5f48f98a25275);\n        \n    \n            var marker_7c5797bc916ae63ed0ede30247774ae9 = L.marker(\n                [28.56230197, -80.57735648],\n                {&quot;iconColor&quot;: &quot;green&quot;}\n            ).addTo(marker_cluster_8f827a6d6bc3dbc304f5f48f98a25275);\n        \n    \n            var marker_5d96998f7e00bf3949f3e04cf2934234 = L.marker(\n                [28.56230197, -80.57735648],\n                {&quot;iconColor&quot;: &quot;green&quot;}\n            ).addTo(marker_cluster_8f827a6d6bc3dbc304f5f48f98a25275);\n        \n    \n            var marker_176e9e6e19de2d526114559717a8116c = L.marker(\n                [28.56230197, -80.57735648],\n                {&quot;iconColor&quot;: &quot;red&quot;}\n            ).addTo(marker_cluster_8f827a6d6bc3dbc304f5f48f98a25275);\n        \n    \n            var marker_edab83a177bf070b5d6f33e5baf2d771 = L.marker(\n                [28.56230197, -80.57735648],\n                {&quot;iconColor&quot;: &quot;green&quot;}\n            ).addTo(marker_cluster_8f827a6d6bc3dbc304f5f48f98a25275);\n        \n    \n            var marker_48f3edf751e30a20c6bdc0a6005ebb4b = L.marker(\n                [28.56230197, -80.57735648],\n                {&quot;iconColor&quot;: &quot;green&quot;}\n            ).addTo(marker_cluster_8f827a6d6bc3dbc304f5f48f98a25275);\n        \n    \n            var marker_dbc7f71d83a089ebe24c3510e762d670 = L.marker(\n                [34.63283416, -120.6107455],\n                {&quot;iconColor&quot;: &quot;red&quot;}\n            ).addTo(marker_cluster_8f827a6d6bc3dbc304f5f48f98a25275);\n        \n    \n            var marker_fcbd3c363a1f7bf479a9de3c70bd0e01 = L.marker(\n                [34.63283416, -120.6107455],\n                {&quot;iconColor&quot;: &quot;red&quot;}\n            ).addTo(marker_cluster_8f827a6d6bc3dbc304f5f48f98a25275);\n        \n    \n            var marker_cfdbbb9dadca5bde79d86750f4ef5247 = L.marker(\n                [34.63283416, -120.6107455],\n                {&quot;iconColor&quot;: &quot;green&quot;}\n            ).addTo(marker_cluster_8f827a6d6bc3dbc304f5f48f98a25275);\n        \n    \n            var marker_9b2f6dfee1e4580c8814fc637c2b83c4 = L.marker(\n                [34.63283416, -120.6107455],\n                {&quot;iconColor&quot;: &quot;green&quot;}\n            ).addTo(marker_cluster_8f827a6d6bc3dbc304f5f48f98a25275);\n        \n    \n            var marker_8f2c92f5d1655d2f98248085d6c53f3e = L.marker(\n                [34.63283416, -120.6107455],\n                {&quot;iconColor&quot;: &quot;green&quot;}\n            ).addTo(marker_cluster_8f827a6d6bc3dbc304f5f48f98a25275);\n        \n    \n            var marker_73b124b86fd37d92b3289350df5c02ab = L.marker(\n                [34.63283416, -120.6107455],\n                {&quot;iconColor&quot;: &quot;green&quot;}\n            ).addTo(marker_cluster_8f827a6d6bc3dbc304f5f48f98a25275);\n        \n    \n            var marker_1978a157a8e2d9139b2f799b8b7a4362 = L.marker(\n                [34.63283416, -120.6107455],\n                {&quot;iconColor&quot;: &quot;red&quot;}\n            ).addTo(marker_cluster_8f827a6d6bc3dbc304f5f48f98a25275);\n        \n    \n            var marker_f6ac4e0954eafc095d199dbf9d8e41bd = L.marker(\n                [34.63283416, -120.6107455],\n                {&quot;iconColor&quot;: &quot;red&quot;}\n            ).addTo(marker_cluster_8f827a6d6bc3dbc304f5f48f98a25275);\n        \n    \n            var marker_c8622a33963653fc16316c525e59a050 = L.marker(\n                [34.63283416, -120.6107455],\n                {&quot;iconColor&quot;: &quot;red&quot;}\n            ).addTo(marker_cluster_8f827a6d6bc3dbc304f5f48f98a25275);\n        \n    \n            var marker_6c274821403b4a1bc50be69a35de1d09 = L.marker(\n                [34.63283416, -120.6107455],\n                {&quot;iconColor&quot;: &quot;red&quot;}\n            ).addTo(marker_cluster_8f827a6d6bc3dbc304f5f48f98a25275);\n        \n    \n            var marker_85a9f83ea305da3777f0d971175d6e0c = L.marker(\n                [28.57325457, -80.64689529],\n                {&quot;iconColor&quot;: &quot;green&quot;}\n            ).addTo(marker_cluster_8f827a6d6bc3dbc304f5f48f98a25275);\n        \n    \n            var marker_573cea0b27f4c5c3b707f80981b2dfb4 = L.marker(\n                [28.57325457, -80.64689529],\n                {&quot;iconColor&quot;: &quot;red&quot;}\n            ).addTo(marker_cluster_8f827a6d6bc3dbc304f5f48f98a25275);\n        \n    \n            var marker_152c29454a5580e5b03b62695bb5180f = L.marker(\n                [28.57325457, -80.64689529],\n                {&quot;iconColor&quot;: &quot;green&quot;}\n            ).addTo(marker_cluster_8f827a6d6bc3dbc304f5f48f98a25275);\n        \n    \n            var marker_56aaa158725612f1b416c384067b3bcd = L.marker(\n                [28.57325457, -80.64689529],\n                {&quot;iconColor&quot;: &quot;green&quot;}\n            ).addTo(marker_cluster_8f827a6d6bc3dbc304f5f48f98a25275);\n        \n    \n            var marker_f39562a5fa9f9c6609628f733ccce8c9 = L.marker(\n                [28.57325457, -80.64689529],\n                {&quot;iconColor&quot;: &quot;red&quot;}\n            ).addTo(marker_cluster_8f827a6d6bc3dbc304f5f48f98a25275);\n        \n    \n            var marker_e4a86e682fd863143fce781f48deb842 = L.marker(\n                [28.57325457, -80.64689529],\n                {&quot;iconColor&quot;: &quot;green&quot;}\n            ).addTo(marker_cluster_8f827a6d6bc3dbc304f5f48f98a25275);\n        \n    \n            var marker_4c085ccdb8d215d39cbb863b9f97ed42 = L.marker(\n                [28.57325457, -80.64689529],\n                {&quot;iconColor&quot;: &quot;green&quot;}\n            ).addTo(marker_cluster_8f827a6d6bc3dbc304f5f48f98a25275);\n        \n    \n            var marker_c748bc3154d81fa9261a2e94d08529ba = L.marker(\n                [28.57325457, -80.64689529],\n                {&quot;iconColor&quot;: &quot;red&quot;}\n            ).addTo(marker_cluster_8f827a6d6bc3dbc304f5f48f98a25275);\n        \n    \n            var marker_9e2cc20bffc489a6204f68638567e9f4 = L.marker(\n                [28.57325457, -80.64689529],\n                {&quot;iconColor&quot;: &quot;green&quot;}\n            ).addTo(marker_cluster_8f827a6d6bc3dbc304f5f48f98a25275);\n        \n    \n            var marker_d43227c8215bd35eb69a41e387c414fa = L.marker(\n                [28.57325457, -80.64689529],\n                {&quot;iconColor&quot;: &quot;green&quot;}\n            ).addTo(marker_cluster_8f827a6d6bc3dbc304f5f48f98a25275);\n        \n    \n            var marker_a357236385e9ace61d8bc2248033a15a = L.marker(\n                [28.57325457, -80.64689529],\n                {&quot;iconColor&quot;: &quot;green&quot;}\n            ).addTo(marker_cluster_8f827a6d6bc3dbc304f5f48f98a25275);\n        \n    \n            var marker_daad642e7d03d0da7cdb80585d1024c8 = L.marker(\n                [28.57325457, -80.64689529],\n                {&quot;iconColor&quot;: &quot;green&quot;}\n            ).addTo(marker_cluster_8f827a6d6bc3dbc304f5f48f98a25275);\n        \n    \n            var marker_b22c8df7f8a93510696082dd356d69d1 = L.marker(\n                [28.57325457, -80.64689529],\n                {&quot;iconColor&quot;: &quot;green&quot;}\n            ).addTo(marker_cluster_8f827a6d6bc3dbc304f5f48f98a25275);\n        \n    \n            var marker_bb338b5ad6d693f63ccf970bd96f48d6 = L.marker(\n                [28.56319718, -80.57682003],\n                {&quot;iconColor&quot;: &quot;green&quot;}\n            ).addTo(marker_cluster_8f827a6d6bc3dbc304f5f48f98a25275);\n        \n    \n            var marker_51242f4fc4c8a26e9c5387a79d127160 = L.marker(\n                [28.56319718, -80.57682003],\n                {&quot;iconColor&quot;: &quot;green&quot;}\n            ).addTo(marker_cluster_8f827a6d6bc3dbc304f5f48f98a25275);\n        \n    \n            var marker_484f724c2b3b8a5c9f340acc78dc679f = L.marker(\n                [28.56319718, -80.57682003],\n                {&quot;iconColor&quot;: &quot;red&quot;}\n            ).addTo(marker_cluster_8f827a6d6bc3dbc304f5f48f98a25275);\n        \n    \n            var marker_d6cd927c717391a5033b0e36770331f1 = L.marker(\n                [28.56319718, -80.57682003],\n                {&quot;iconColor&quot;: &quot;red&quot;}\n            ).addTo(marker_cluster_8f827a6d6bc3dbc304f5f48f98a25275);\n        \n    \n            var marker_037ea25eb035b55ed619b64613a476a9 = L.marker(\n                [28.56319718, -80.57682003],\n                {&quot;iconColor&quot;: &quot;red&quot;}\n            ).addTo(marker_cluster_8f827a6d6bc3dbc304f5f48f98a25275);\n        \n    \n            var marker_0bc3d2c5d5bcbfa9b0ea0e01c5f826bd = L.marker(\n                [28.56319718, -80.57682003],\n                {&quot;iconColor&quot;: &quot;green&quot;}\n            ).addTo(marker_cluster_8f827a6d6bc3dbc304f5f48f98a25275);\n        \n    \n            var marker_060800748d9a4ee7754cb2b0315e2dae = L.marker(\n                [28.56319718, -80.57682003],\n                {&quot;iconColor&quot;: &quot;red&quot;}\n            ).addTo(marker_cluster_8f827a6d6bc3dbc304f5f48f98a25275);\n        \n&lt;/script&gt;\n&lt;/html&gt;\" style=\"position:absolute;width:100%;height:100%;left:0;top:0;border:none !important;\" allowfullscreen webkitallowfullscreen mozallowfullscreen></iframe></div></div>"
          },
          "metadata": {}
        }
      ]
    },
    {
      "cell_type": "markdown",
      "source": "Your updated map may look like the following screenshots:\n",
      "metadata": {}
    },
    {
      "cell_type": "markdown",
      "source": "<center>\n    <img src=\"https://cf-courses-data.s3.us.cloud-object-storage.appdomain.cloud/IBM-DS0321EN-SkillsNetwork/labs/module_3/images/launch_site_marker_cluster.png\">\n</center>\n",
      "metadata": {}
    },
    {
      "cell_type": "markdown",
      "source": "<center>\n    <img src=\"https://cf-courses-data.s3.us.cloud-object-storage.appdomain.cloud/IBM-DS0321EN-SkillsNetwork/labs/module_3/images/launch_site_marker_cluster_zoomed.png\">\n</center>\n",
      "metadata": {}
    },
    {
      "cell_type": "markdown",
      "source": "From the color-labeled markers in marker clusters, you should be able to easily identify which launch sites have relatively high success rates.\n",
      "metadata": {}
    },
    {
      "cell_type": "code",
      "source": "# TASK 3: Calculate the distances between a launch site to its proximities\n",
      "metadata": {},
      "execution_count": null,
      "outputs": []
    },
    {
      "cell_type": "markdown",
      "source": "Next, we need to explore and analyze the proximities of launch sites.\n",
      "metadata": {}
    },
    {
      "cell_type": "markdown",
      "source": "Let's first add a `MousePosition` on the map to get coordinate for a mouse over a point on the map. As such, while you are exploring the map, you can easily find the coordinates of any points of interests (such as railway)\n",
      "metadata": {}
    },
    {
      "cell_type": "code",
      "source": "# Add Mouse Position to get the coordinate (Lat, Long) for a mouse over on the map\nformatter = \"function(num) {return L.Util.formatNum(num, 5);};\"\nmouse_position = MousePosition(\n    position='topright',\n    separator=' Long: ',\n    empty_string='NaN',\n    lng_first=False,\n    num_digits=20,\n    prefix='Lat:',\n    lat_formatter=formatter,\n    lng_formatter=formatter,\n)\n\nsite_map.add_child(mouse_position)\nsite_map",
      "metadata": {
        "trusted": true
      },
      "execution_count": 23,
      "outputs": [
        {
          "execution_count": 23,
          "output_type": "execute_result",
          "data": {
            "text/plain": "<folium.folium.Map at 0x418c558>",
            "text/html": "<div style=\"width:100%;\"><div style=\"position:relative;width:100%;height:0;padding-bottom:60%;\"><span style=\"color:#565656\">Make this Notebook Trusted to load map: File -> Trust Notebook</span><iframe srcdoc=\"&lt;!DOCTYPE html&gt;\n&lt;html&gt;\n&lt;head&gt;\n    \n    &lt;meta http-equiv=&quot;content-type&quot; content=&quot;text/html; charset=UTF-8&quot; /&gt;\n    \n        &lt;script&gt;\n            L_NO_TOUCH = false;\n            L_DISABLE_3D = false;\n        &lt;/script&gt;\n    \n    &lt;style&gt;html, body {width: 100%;height: 100%;margin: 0;padding: 0;}&lt;/style&gt;\n    &lt;style&gt;#map {position:absolute;top:0;bottom:0;right:0;left:0;}&lt;/style&gt;\n    &lt;script src=&quot;https://cdn.jsdelivr.net/npm/leaflet@1.9.3/dist/leaflet.js&quot;&gt;&lt;/script&gt;\n    &lt;script src=&quot;https://code.jquery.com/jquery-1.12.4.min.js&quot;&gt;&lt;/script&gt;\n    &lt;script src=&quot;https://cdn.jsdelivr.net/npm/bootstrap@5.2.2/dist/js/bootstrap.bundle.min.js&quot;&gt;&lt;/script&gt;\n    &lt;script src=&quot;https://cdnjs.cloudflare.com/ajax/libs/Leaflet.awesome-markers/2.0.2/leaflet.awesome-markers.js&quot;&gt;&lt;/script&gt;\n    &lt;link rel=&quot;stylesheet&quot; href=&quot;https://cdn.jsdelivr.net/npm/leaflet@1.9.3/dist/leaflet.css&quot;/&gt;\n    &lt;link rel=&quot;stylesheet&quot; href=&quot;https://cdn.jsdelivr.net/npm/bootstrap@5.2.2/dist/css/bootstrap.min.css&quot;/&gt;\n    &lt;link rel=&quot;stylesheet&quot; href=&quot;https://netdna.bootstrapcdn.com/bootstrap/3.0.0/css/bootstrap.min.css&quot;/&gt;\n    &lt;link rel=&quot;stylesheet&quot; href=&quot;https://cdn.jsdelivr.net/npm/@fortawesome/fontawesome-free@6.2.0/css/all.min.css&quot;/&gt;\n    &lt;link rel=&quot;stylesheet&quot; href=&quot;https://cdnjs.cloudflare.com/ajax/libs/Leaflet.awesome-markers/2.0.2/leaflet.awesome-markers.css&quot;/&gt;\n    &lt;link rel=&quot;stylesheet&quot; href=&quot;https://cdn.jsdelivr.net/gh/python-visualization/folium/folium/templates/leaflet.awesome.rotate.min.css&quot;/&gt;\n    \n            &lt;meta name=&quot;viewport&quot; content=&quot;width=device-width,\n                initial-scale=1.0, maximum-scale=1.0, user-scalable=no&quot; /&gt;\n            &lt;style&gt;\n                #map_7695242e514c5f1166939100a46f2fcb {\n                    position: relative;\n                    width: 100.0%;\n                    height: 100.0%;\n                    left: 0.0%;\n                    top: 0.0%;\n                }\n                .leaflet-container { font-size: 1rem; }\n            &lt;/style&gt;\n        \n    &lt;script src=&quot;https://cdnjs.cloudflare.com/ajax/libs/leaflet.markercluster/1.1.0/leaflet.markercluster.js&quot;&gt;&lt;/script&gt;\n    &lt;link rel=&quot;stylesheet&quot; href=&quot;https://cdnjs.cloudflare.com/ajax/libs/leaflet.markercluster/1.1.0/MarkerCluster.css&quot;/&gt;\n    &lt;link rel=&quot;stylesheet&quot; href=&quot;https://cdnjs.cloudflare.com/ajax/libs/leaflet.markercluster/1.1.0/MarkerCluster.Default.css&quot;/&gt;\n    &lt;script src=&quot;https://cdn.jsdelivr.net/gh/ardhi/Leaflet.MousePosition/src/L.Control.MousePosition.min.js&quot;&gt;&lt;/script&gt;\n    &lt;link rel=&quot;stylesheet&quot; href=&quot;https://cdn.jsdelivr.net/gh/ardhi/Leaflet.MousePosition/src/L.Control.MousePosition.min.css&quot;/&gt;\n&lt;/head&gt;\n&lt;body&gt;\n    \n    \n            &lt;div class=&quot;folium-map&quot; id=&quot;map_7695242e514c5f1166939100a46f2fcb&quot; &gt;&lt;/div&gt;\n        \n&lt;/body&gt;\n&lt;script&gt;\n    \n    \n            var map_7695242e514c5f1166939100a46f2fcb = L.map(\n                &quot;map_7695242e514c5f1166939100a46f2fcb&quot;,\n                {\n                    center: [29.559684888503615, -95.0830971930759],\n                    crs: L.CRS.EPSG3857,\n                    zoom: 5,\n                    zoomControl: true,\n                    preferCanvas: false,\n                }\n            );\n\n            \n\n        \n    \n            var tile_layer_474e9688b4a4e85605a964bc1033bb5c = L.tileLayer(\n                &quot;https://{s}.tile.openstreetmap.org/{z}/{x}/{y}.png&quot;,\n                {&quot;attribution&quot;: &quot;Data by \\u0026copy; \\u003ca target=\\&quot;_blank\\&quot; href=\\&quot;http://openstreetmap.org\\&quot;\\u003eOpenStreetMap\\u003c/a\\u003e, under \\u003ca target=\\&quot;_blank\\&quot; href=\\&quot;http://www.openstreetmap.org/copyright\\&quot;\\u003eODbL\\u003c/a\\u003e.&quot;, &quot;detectRetina&quot;: false, &quot;maxNativeZoom&quot;: 18, &quot;maxZoom&quot;: 18, &quot;minZoom&quot;: 0, &quot;noWrap&quot;: false, &quot;opacity&quot;: 1, &quot;subdomains&quot;: &quot;abc&quot;, &quot;tms&quot;: false}\n            ).addTo(map_7695242e514c5f1166939100a46f2fcb);\n        \n    \n            var marker_cluster_8f827a6d6bc3dbc304f5f48f98a25275 = L.markerClusterGroup(\n                {}\n            );\n            map_7695242e514c5f1166939100a46f2fcb.addLayer(marker_cluster_8f827a6d6bc3dbc304f5f48f98a25275);\n        \n    \n            var marker_fb39b8a78f169f9345c6f10591a8f7bd = L.marker(\n                [28.56230197, -80.57735648],\n                {&quot;iconColor&quot;: &quot;red&quot;}\n            ).addTo(marker_cluster_8f827a6d6bc3dbc304f5f48f98a25275);\n        \n    \n            var marker_c03ce66fc9e38451096f56bce78d1dee = L.marker(\n                [28.56230197, -80.57735648],\n                {&quot;iconColor&quot;: &quot;red&quot;}\n            ).addTo(marker_cluster_8f827a6d6bc3dbc304f5f48f98a25275);\n        \n    \n            var marker_54e2bba434bf7483ee6e353f31d37bab = L.marker(\n                [28.56230197, -80.57735648],\n                {&quot;iconColor&quot;: &quot;red&quot;}\n            ).addTo(marker_cluster_8f827a6d6bc3dbc304f5f48f98a25275);\n        \n    \n            var marker_5a904362844d127b56e2578ea5608d8f = L.marker(\n                [28.56230197, -80.57735648],\n                {&quot;iconColor&quot;: &quot;red&quot;}\n            ).addTo(marker_cluster_8f827a6d6bc3dbc304f5f48f98a25275);\n        \n    \n            var marker_b8d96000d446f058300a41f003879960 = L.marker(\n                [28.56230197, -80.57735648],\n                {&quot;iconColor&quot;: &quot;red&quot;}\n            ).addTo(marker_cluster_8f827a6d6bc3dbc304f5f48f98a25275);\n        \n    \n            var marker_408d40080e971315185d0731f9d6e870 = L.marker(\n                [28.56230197, -80.57735648],\n                {&quot;iconColor&quot;: &quot;red&quot;}\n            ).addTo(marker_cluster_8f827a6d6bc3dbc304f5f48f98a25275);\n        \n    \n            var marker_90183e1f8d914760d84d1e1d572cde34 = L.marker(\n                [28.56230197, -80.57735648],\n                {&quot;iconColor&quot;: &quot;red&quot;}\n            ).addTo(marker_cluster_8f827a6d6bc3dbc304f5f48f98a25275);\n        \n    \n            var marker_528abb73c46cdacc06e01885d79c27ca = L.marker(\n                [28.56230197, -80.57735648],\n                {&quot;iconColor&quot;: &quot;red&quot;}\n            ).addTo(marker_cluster_8f827a6d6bc3dbc304f5f48f98a25275);\n        \n    \n            var marker_73b0f7c0cfdb3ae4d194b1f7d0b5a723 = L.marker(\n                [28.56230197, -80.57735648],\n                {&quot;iconColor&quot;: &quot;red&quot;}\n            ).addTo(marker_cluster_8f827a6d6bc3dbc304f5f48f98a25275);\n        \n    \n            var marker_56e00d35fa337e840c752b409fc1137a = L.marker(\n                [28.56230197, -80.57735648],\n                {&quot;iconColor&quot;: &quot;red&quot;}\n            ).addTo(marker_cluster_8f827a6d6bc3dbc304f5f48f98a25275);\n        \n    \n            var marker_d0edf38c6d02499c43cdd317bade82bf = L.marker(\n                [28.56230197, -80.57735648],\n                {&quot;iconColor&quot;: &quot;red&quot;}\n            ).addTo(marker_cluster_8f827a6d6bc3dbc304f5f48f98a25275);\n        \n    \n            var marker_c1dd85372db46ff279fcd24eb7845824 = L.marker(\n                [28.56230197, -80.57735648],\n                {&quot;iconColor&quot;: &quot;red&quot;}\n            ).addTo(marker_cluster_8f827a6d6bc3dbc304f5f48f98a25275);\n        \n    \n            var marker_8bc2e2cba660f454cc0a92a39fc14d81 = L.marker(\n                [28.56230197, -80.57735648],\n                {&quot;iconColor&quot;: &quot;red&quot;}\n            ).addTo(marker_cluster_8f827a6d6bc3dbc304f5f48f98a25275);\n        \n    \n            var marker_0952f1f98f6d0d212f2e22af38f8763c = L.marker(\n                [28.56230197, -80.57735648],\n                {&quot;iconColor&quot;: &quot;red&quot;}\n            ).addTo(marker_cluster_8f827a6d6bc3dbc304f5f48f98a25275);\n        \n    \n            var marker_a2ce3352d05f1b74b6d496cc65e383e8 = L.marker(\n                [28.56230197, -80.57735648],\n                {&quot;iconColor&quot;: &quot;red&quot;}\n            ).addTo(marker_cluster_8f827a6d6bc3dbc304f5f48f98a25275);\n        \n    \n            var marker_8d354515a5a4b9ec550245e2962a3664 = L.marker(\n                [28.56230197, -80.57735648],\n                {&quot;iconColor&quot;: &quot;red&quot;}\n            ).addTo(marker_cluster_8f827a6d6bc3dbc304f5f48f98a25275);\n        \n    \n            var marker_e6ab7109ab1412aeb105b31562fa8b28 = L.marker(\n                [28.56230197, -80.57735648],\n                {&quot;iconColor&quot;: &quot;red&quot;}\n            ).addTo(marker_cluster_8f827a6d6bc3dbc304f5f48f98a25275);\n        \n    \n            var marker_bd997f8370a3411499862f7109f47160 = L.marker(\n                [28.56230197, -80.57735648],\n                {&quot;iconColor&quot;: &quot;green&quot;}\n            ).addTo(marker_cluster_8f827a6d6bc3dbc304f5f48f98a25275);\n        \n    \n            var marker_9a1eb9df82676ae18e12eaf1bdce3694 = L.marker(\n                [28.56230197, -80.57735648],\n                {&quot;iconColor&quot;: &quot;green&quot;}\n            ).addTo(marker_cluster_8f827a6d6bc3dbc304f5f48f98a25275);\n        \n    \n            var marker_4d419a935720b067386afdeb995f6d1d = L.marker(\n                [28.56230197, -80.57735648],\n                {&quot;iconColor&quot;: &quot;red&quot;}\n            ).addTo(marker_cluster_8f827a6d6bc3dbc304f5f48f98a25275);\n        \n    \n            var marker_775c921e37fe714d8358466a8a65d14f = L.marker(\n                [28.56230197, -80.57735648],\n                {&quot;iconColor&quot;: &quot;green&quot;}\n            ).addTo(marker_cluster_8f827a6d6bc3dbc304f5f48f98a25275);\n        \n    \n            var marker_7c5797bc916ae63ed0ede30247774ae9 = L.marker(\n                [28.56230197, -80.57735648],\n                {&quot;iconColor&quot;: &quot;green&quot;}\n            ).addTo(marker_cluster_8f827a6d6bc3dbc304f5f48f98a25275);\n        \n    \n            var marker_5d96998f7e00bf3949f3e04cf2934234 = L.marker(\n                [28.56230197, -80.57735648],\n                {&quot;iconColor&quot;: &quot;green&quot;}\n            ).addTo(marker_cluster_8f827a6d6bc3dbc304f5f48f98a25275);\n        \n    \n            var marker_176e9e6e19de2d526114559717a8116c = L.marker(\n                [28.56230197, -80.57735648],\n                {&quot;iconColor&quot;: &quot;red&quot;}\n            ).addTo(marker_cluster_8f827a6d6bc3dbc304f5f48f98a25275);\n        \n    \n            var marker_edab83a177bf070b5d6f33e5baf2d771 = L.marker(\n                [28.56230197, -80.57735648],\n                {&quot;iconColor&quot;: &quot;green&quot;}\n            ).addTo(marker_cluster_8f827a6d6bc3dbc304f5f48f98a25275);\n        \n    \n            var marker_48f3edf751e30a20c6bdc0a6005ebb4b = L.marker(\n                [28.56230197, -80.57735648],\n                {&quot;iconColor&quot;: &quot;green&quot;}\n            ).addTo(marker_cluster_8f827a6d6bc3dbc304f5f48f98a25275);\n        \n    \n            var marker_dbc7f71d83a089ebe24c3510e762d670 = L.marker(\n                [34.63283416, -120.6107455],\n                {&quot;iconColor&quot;: &quot;red&quot;}\n            ).addTo(marker_cluster_8f827a6d6bc3dbc304f5f48f98a25275);\n        \n    \n            var marker_fcbd3c363a1f7bf479a9de3c70bd0e01 = L.marker(\n                [34.63283416, -120.6107455],\n                {&quot;iconColor&quot;: &quot;red&quot;}\n            ).addTo(marker_cluster_8f827a6d6bc3dbc304f5f48f98a25275);\n        \n    \n            var marker_cfdbbb9dadca5bde79d86750f4ef5247 = L.marker(\n                [34.63283416, -120.6107455],\n                {&quot;iconColor&quot;: &quot;green&quot;}\n            ).addTo(marker_cluster_8f827a6d6bc3dbc304f5f48f98a25275);\n        \n    \n            var marker_9b2f6dfee1e4580c8814fc637c2b83c4 = L.marker(\n                [34.63283416, -120.6107455],\n                {&quot;iconColor&quot;: &quot;green&quot;}\n            ).addTo(marker_cluster_8f827a6d6bc3dbc304f5f48f98a25275);\n        \n    \n            var marker_8f2c92f5d1655d2f98248085d6c53f3e = L.marker(\n                [34.63283416, -120.6107455],\n                {&quot;iconColor&quot;: &quot;green&quot;}\n            ).addTo(marker_cluster_8f827a6d6bc3dbc304f5f48f98a25275);\n        \n    \n            var marker_73b124b86fd37d92b3289350df5c02ab = L.marker(\n                [34.63283416, -120.6107455],\n                {&quot;iconColor&quot;: &quot;green&quot;}\n            ).addTo(marker_cluster_8f827a6d6bc3dbc304f5f48f98a25275);\n        \n    \n            var marker_1978a157a8e2d9139b2f799b8b7a4362 = L.marker(\n                [34.63283416, -120.6107455],\n                {&quot;iconColor&quot;: &quot;red&quot;}\n            ).addTo(marker_cluster_8f827a6d6bc3dbc304f5f48f98a25275);\n        \n    \n            var marker_f6ac4e0954eafc095d199dbf9d8e41bd = L.marker(\n                [34.63283416, -120.6107455],\n                {&quot;iconColor&quot;: &quot;red&quot;}\n            ).addTo(marker_cluster_8f827a6d6bc3dbc304f5f48f98a25275);\n        \n    \n            var marker_c8622a33963653fc16316c525e59a050 = L.marker(\n                [34.63283416, -120.6107455],\n                {&quot;iconColor&quot;: &quot;red&quot;}\n            ).addTo(marker_cluster_8f827a6d6bc3dbc304f5f48f98a25275);\n        \n    \n            var marker_6c274821403b4a1bc50be69a35de1d09 = L.marker(\n                [34.63283416, -120.6107455],\n                {&quot;iconColor&quot;: &quot;red&quot;}\n            ).addTo(marker_cluster_8f827a6d6bc3dbc304f5f48f98a25275);\n        \n    \n            var marker_85a9f83ea305da3777f0d971175d6e0c = L.marker(\n                [28.57325457, -80.64689529],\n                {&quot;iconColor&quot;: &quot;green&quot;}\n            ).addTo(marker_cluster_8f827a6d6bc3dbc304f5f48f98a25275);\n        \n    \n            var marker_573cea0b27f4c5c3b707f80981b2dfb4 = L.marker(\n                [28.57325457, -80.64689529],\n                {&quot;iconColor&quot;: &quot;red&quot;}\n            ).addTo(marker_cluster_8f827a6d6bc3dbc304f5f48f98a25275);\n        \n    \n            var marker_152c29454a5580e5b03b62695bb5180f = L.marker(\n                [28.57325457, -80.64689529],\n                {&quot;iconColor&quot;: &quot;green&quot;}\n            ).addTo(marker_cluster_8f827a6d6bc3dbc304f5f48f98a25275);\n        \n    \n            var marker_56aaa158725612f1b416c384067b3bcd = L.marker(\n                [28.57325457, -80.64689529],\n                {&quot;iconColor&quot;: &quot;green&quot;}\n            ).addTo(marker_cluster_8f827a6d6bc3dbc304f5f48f98a25275);\n        \n    \n            var marker_f39562a5fa9f9c6609628f733ccce8c9 = L.marker(\n                [28.57325457, -80.64689529],\n                {&quot;iconColor&quot;: &quot;red&quot;}\n            ).addTo(marker_cluster_8f827a6d6bc3dbc304f5f48f98a25275);\n        \n    \n            var marker_e4a86e682fd863143fce781f48deb842 = L.marker(\n                [28.57325457, -80.64689529],\n                {&quot;iconColor&quot;: &quot;green&quot;}\n            ).addTo(marker_cluster_8f827a6d6bc3dbc304f5f48f98a25275);\n        \n    \n            var marker_4c085ccdb8d215d39cbb863b9f97ed42 = L.marker(\n                [28.57325457, -80.64689529],\n                {&quot;iconColor&quot;: &quot;green&quot;}\n            ).addTo(marker_cluster_8f827a6d6bc3dbc304f5f48f98a25275);\n        \n    \n            var marker_c748bc3154d81fa9261a2e94d08529ba = L.marker(\n                [28.57325457, -80.64689529],\n                {&quot;iconColor&quot;: &quot;red&quot;}\n            ).addTo(marker_cluster_8f827a6d6bc3dbc304f5f48f98a25275);\n        \n    \n            var marker_9e2cc20bffc489a6204f68638567e9f4 = L.marker(\n                [28.57325457, -80.64689529],\n                {&quot;iconColor&quot;: &quot;green&quot;}\n            ).addTo(marker_cluster_8f827a6d6bc3dbc304f5f48f98a25275);\n        \n    \n            var marker_d43227c8215bd35eb69a41e387c414fa = L.marker(\n                [28.57325457, -80.64689529],\n                {&quot;iconColor&quot;: &quot;green&quot;}\n            ).addTo(marker_cluster_8f827a6d6bc3dbc304f5f48f98a25275);\n        \n    \n            var marker_a357236385e9ace61d8bc2248033a15a = L.marker(\n                [28.57325457, -80.64689529],\n                {&quot;iconColor&quot;: &quot;green&quot;}\n            ).addTo(marker_cluster_8f827a6d6bc3dbc304f5f48f98a25275);\n        \n    \n            var marker_daad642e7d03d0da7cdb80585d1024c8 = L.marker(\n                [28.57325457, -80.64689529],\n                {&quot;iconColor&quot;: &quot;green&quot;}\n            ).addTo(marker_cluster_8f827a6d6bc3dbc304f5f48f98a25275);\n        \n    \n            var marker_b22c8df7f8a93510696082dd356d69d1 = L.marker(\n                [28.57325457, -80.64689529],\n                {&quot;iconColor&quot;: &quot;green&quot;}\n            ).addTo(marker_cluster_8f827a6d6bc3dbc304f5f48f98a25275);\n        \n    \n            var marker_bb338b5ad6d693f63ccf970bd96f48d6 = L.marker(\n                [28.56319718, -80.57682003],\n                {&quot;iconColor&quot;: &quot;green&quot;}\n            ).addTo(marker_cluster_8f827a6d6bc3dbc304f5f48f98a25275);\n        \n    \n            var marker_51242f4fc4c8a26e9c5387a79d127160 = L.marker(\n                [28.56319718, -80.57682003],\n                {&quot;iconColor&quot;: &quot;green&quot;}\n            ).addTo(marker_cluster_8f827a6d6bc3dbc304f5f48f98a25275);\n        \n    \n            var marker_484f724c2b3b8a5c9f340acc78dc679f = L.marker(\n                [28.56319718, -80.57682003],\n                {&quot;iconColor&quot;: &quot;red&quot;}\n            ).addTo(marker_cluster_8f827a6d6bc3dbc304f5f48f98a25275);\n        \n    \n            var marker_d6cd927c717391a5033b0e36770331f1 = L.marker(\n                [28.56319718, -80.57682003],\n                {&quot;iconColor&quot;: &quot;red&quot;}\n            ).addTo(marker_cluster_8f827a6d6bc3dbc304f5f48f98a25275);\n        \n    \n            var marker_037ea25eb035b55ed619b64613a476a9 = L.marker(\n                [28.56319718, -80.57682003],\n                {&quot;iconColor&quot;: &quot;red&quot;}\n            ).addTo(marker_cluster_8f827a6d6bc3dbc304f5f48f98a25275);\n        \n    \n            var marker_0bc3d2c5d5bcbfa9b0ea0e01c5f826bd = L.marker(\n                [28.56319718, -80.57682003],\n                {&quot;iconColor&quot;: &quot;green&quot;}\n            ).addTo(marker_cluster_8f827a6d6bc3dbc304f5f48f98a25275);\n        \n    \n            var marker_060800748d9a4ee7754cb2b0315e2dae = L.marker(\n                [28.56319718, -80.57682003],\n                {&quot;iconColor&quot;: &quot;red&quot;}\n            ).addTo(marker_cluster_8f827a6d6bc3dbc304f5f48f98a25275);\n        \n    \n            var mouse_position_0920c6026cc6be6c68eacdaca1325fd8 = new L.Control.MousePosition(\n                {&quot;emptyString&quot;: &quot;NaN&quot;, &quot;lngFirst&quot;: false, &quot;numDigits&quot;: 20, &quot;position&quot;: &quot;topright&quot;, &quot;prefix&quot;: &quot;Lat:&quot;, &quot;separator&quot;: &quot; Long: &quot;}\n            );\n            mouse_position_0920c6026cc6be6c68eacdaca1325fd8.options[&quot;latFormatter&quot;] =\n                function(num) {return L.Util.formatNum(num, 5);};;\n            mouse_position_0920c6026cc6be6c68eacdaca1325fd8.options[&quot;lngFormatter&quot;] =\n                function(num) {return L.Util.formatNum(num, 5);};;\n            map_7695242e514c5f1166939100a46f2fcb.addControl(mouse_position_0920c6026cc6be6c68eacdaca1325fd8);\n        \n&lt;/script&gt;\n&lt;/html&gt;\" style=\"position:absolute;width:100%;height:100%;left:0;top:0;border:none !important;\" allowfullscreen webkitallowfullscreen mozallowfullscreen></iframe></div></div>"
          },
          "metadata": {}
        }
      ]
    },
    {
      "cell_type": "markdown",
      "source": "Now zoom in to a launch site and explore its proximity to see if you can easily find any railway, highway, coastline, etc. Move your mouse to these points and mark down their coordinates (shown on the top-left) in order to the distance to the launch site.\n",
      "metadata": {}
    },
    {
      "cell_type": "markdown",
      "source": "Now zoom in to a launch site and explore its proximity to see if you can easily find any railway, highway, coastline, etc. Move your mouse to these points and mark down their coordinates (shown on the top-left) in order to the distance to the launch site.\n",
      "metadata": {}
    },
    {
      "cell_type": "code",
      "source": "from math import sin, cos, sqrt, atan2, radians\n\ndef calculate_distance(lat1, lon1, lat2, lon2):\n    # approximate radius of earth in km\n    R = 6373.0\n\n    lat1 = radians(lat1)\n    lon1 = radians(lon1)\n    lat2 = radians(lat2)\n    lon2 = radians(lon2)\n\n    dlon = lon2 - lon1\n    dlat = lat2 - lat1\n\n    a = sin(dlat / 2)**2 + cos(lat1) * cos(lat2) * sin(dlon / 2)**2\n    c = 2 * atan2(sqrt(a), sqrt(1 - a))\n\n    distance = R * c\n    return distance",
      "metadata": {
        "trusted": true
      },
      "execution_count": 24,
      "outputs": []
    },
    {
      "cell_type": "markdown",
      "source": "*TODO:* Mark down a point on the closest coastline using MousePosition and calculate the distance between the coastline point and the launch site.\n",
      "metadata": {}
    },
    {
      "cell_type": "code",
      "source": "# find coordinate of the closet coastline\n# e.g.,: Lat: 28.56367  Lon: -80.57163\n# distance_coastline = calculate_distance(launch_site_lat, launch_site_lon, coastline_lat, coastline_lon)",
      "metadata": {},
      "execution_count": null,
      "outputs": []
    },
    {
      "cell_type": "code",
      "source": "# Create and add a folium.Marker on your selected closest coastline point on the map\n# Display the distance between coastline point and launch site using the icon property \n# for example\n# distance_marker = folium.Marker(\n#    coordinate,\n#    icon=DivIcon(\n#        icon_size=(20,20),\n#        icon_anchor=(0,0),\n#        html='<div style=\"font-size: 12; color:#d35400;\"><b>%s</b></div>' % \"{:10.2f} KM\".format(distance),\n#        )\n#    )",
      "metadata": {},
      "execution_count": null,
      "outputs": []
    },
    {
      "cell_type": "markdown",
      "source": "*TODO:* Draw a `PolyLine` between a launch site to the selected coastline point\n",
      "metadata": {}
    },
    {
      "cell_type": "code",
      "source": "# Create a `folium.PolyLine` object using the coastline coordinates and launch site coordinate\nlines=folium.PolyLine(locations=coordinates, weight=1)\nsite_map.add_child(lines)",
      "metadata": {
        "trusted": true
      },
      "execution_count": 26,
      "outputs": [
        {
          "ename": "<class 'NameError'>",
          "evalue": "name 'coordinates' is not defined",
          "traceback": [
            "\u001b[0;31m---------------------------------------------------------------------------\u001b[0m",
            "\u001b[0;31mNameError\u001b[0m                                 Traceback (most recent call last)",
            "Cell \u001b[0;32mIn[26], line 2\u001b[0m\n\u001b[1;32m      1\u001b[0m \u001b[38;5;66;03m# Create a `folium.PolyLine` object using the coastline coordinates and launch site coordinate\u001b[39;00m\n\u001b[0;32m----> 2\u001b[0m lines\u001b[38;5;241m=\u001b[39mfolium\u001b[38;5;241m.\u001b[39mPolyLine(locations\u001b[38;5;241m=\u001b[39m\u001b[43mcoordinates\u001b[49m, weight\u001b[38;5;241m=\u001b[39m\u001b[38;5;241m1\u001b[39m)\n\u001b[1;32m      3\u001b[0m site_map\u001b[38;5;241m.\u001b[39madd_child(lines)\n",
            "\u001b[0;31mNameError\u001b[0m: name 'coordinates' is not defined"
          ],
          "output_type": "error"
        }
      ]
    },
    {
      "cell_type": "markdown",
      "source": "Your updated map with distance line should look like the following screenshot:\n",
      "metadata": {}
    },
    {
      "cell_type": "markdown",
      "source": "<center>\n    <img src=\"https://cf-courses-data.s3.us.cloud-object-storage.appdomain.cloud/IBM-DS0321EN-SkillsNetwork/labs/module_3/images/launch_site_marker_distance.png\">\n</center>\n",
      "metadata": {}
    },
    {
      "cell_type": "markdown",
      "source": "*TODO:* Similarly, you can draw a line betwee a launch site to its closest city, railway, highway, etc. You need to use `MousePosition` to find the their coordinates on the map first\n",
      "metadata": {}
    },
    {
      "cell_type": "markdown",
      "source": "A railway map symbol may look like this:\n",
      "metadata": {}
    },
    {
      "cell_type": "markdown",
      "source": "<center>\n    <img src=\"https://cf-courses-data.s3.us.cloud-object-storage.appdomain.cloud/IBM-DS0321EN-SkillsNetwork/labs/module_3/images/railway.png\">\n</center>\n",
      "metadata": {}
    },
    {
      "cell_type": "markdown",
      "source": "A highway map symbol may look like this:\n",
      "metadata": {}
    },
    {
      "cell_type": "markdown",
      "source": "<center>\n    <img src=\"https://cf-courses-data.s3.us.cloud-object-storage.appdomain.cloud/IBM-DS0321EN-SkillsNetwork/labs/module_3/images/highway.png\">\n</center>\n",
      "metadata": {}
    },
    {
      "cell_type": "markdown",
      "source": "A city map symbol may look like this:\n",
      "metadata": {}
    },
    {
      "cell_type": "markdown",
      "source": "<center>\n    <img src=\"https://cf-courses-data.s3.us.cloud-object-storage.appdomain.cloud/IBM-DS0321EN-SkillsNetwork/labs/module_3/images/city.png\">\n</center>\n",
      "metadata": {}
    },
    {
      "cell_type": "code",
      "source": "# Create a marker with distance to a closest city, railway, highway, etc.\n# Draw a line between the marker to the launch site\n",
      "metadata": {},
      "execution_count": null,
      "outputs": []
    },
    {
      "cell_type": "code",
      "source": "",
      "metadata": {},
      "execution_count": null,
      "outputs": []
    },
    {
      "cell_type": "code",
      "source": "",
      "metadata": {},
      "execution_count": null,
      "outputs": []
    },
    {
      "cell_type": "markdown",
      "source": "After you plot distance lines to the proximities, you can answer the following questions easily:\n\n*   Are launch sites in close proximity to railways?\n*   Are launch sites in close proximity to highways?\n*   Are launch sites in close proximity to coastline?\n*   Do launch sites keep certain distance away from cities?\n\nAlso please try to explain your findings.\n",
      "metadata": {}
    },
    {
      "cell_type": "markdown",
      "source": "# Next Steps:\n\nNow you have discovered many interesting insights related to the launch sites' location using folium, in a very interactive way. Next, you will need to build a dashboard using Ploty Dash on detailed launch records.\n",
      "metadata": {}
    },
    {
      "cell_type": "markdown",
      "source": "## Authors\n",
      "metadata": {}
    },
    {
      "cell_type": "markdown",
      "source": "[Pratiksha Verma](https://www.linkedin.com/in/pratiksha-verma-6487561b1/?utm_medium=Exinfluencer&utm_source=Exinfluencer&utm_content=000026UJ&utm_term=10006555&utm_id=NA-SkillsNetwork-Channel-SkillsNetworkCoursesIBMDS0321ENSkillsNetwork865-2022-01-01)\n",
      "metadata": {}
    },
    {
      "cell_type": "markdown",
      "source": "## Change Log\n",
      "metadata": {}
    },
    {
      "cell_type": "markdown",
      "source": "| Date (YYYY-MM-DD) | Version | Changed By      | Change Description      |\n| ----------------- | ------- | -------------   | ----------------------- |\n| 2022-11-09        | 1.0     | Pratiksha Verma | Converted initial version to Jupyterlite|\n",
      "metadata": {}
    },
    {
      "cell_type": "markdown",
      "source": "### <h3 align=\"center\"> IBM Corporation 2022. All rights reserved. <h3/>\n",
      "metadata": {}
    }
  ]
}